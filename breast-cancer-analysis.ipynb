{
 "cells": [
  {
   "cell_type": "code",
   "execution_count": 19,
   "metadata": {},
   "outputs": [],
   "source": [
    "# import pandas\n",
    "import pandas as pd\n",
    "import numpy as np\n",
    "import matplotlib as plt"
   ]
  },
  {
   "cell_type": "code",
   "execution_count": 48,
   "metadata": {},
   "outputs": [],
   "source": [
    "# load breast cancer data\n",
    "df = pd.read_csv('.\\\\Breast_Cancer.csv')\n",
    "df = pd.DataFrame(df)"
   ]
  },
  {
   "cell_type": "code",
   "execution_count": 38,
   "metadata": {},
   "outputs": [
    {
     "data": {
      "text/plain": [
       "Race                      0\n",
       "Marital Status            0\n",
       "T Stage                   0\n",
       "N Stage                   0\n",
       "6th Stage                 0\n",
       "differentiate             0\n",
       "Grade                     0\n",
       "A Stage                   0\n",
       "Tumor Size                0\n",
       "Estrogen Status           0\n",
       "Progesterone Status       0\n",
       "Regional Node Examined    0\n",
       "Reginol Node Positive     0\n",
       "Survival Months           0\n",
       "Status                    0\n",
       "dtype: int64"
      ]
     },
     "execution_count": 38,
     "metadata": {},
     "output_type": "execute_result"
    }
   ],
   "source": [
    "# Check if there are missing values\n",
    "df.isnull().sum()"
   ]
  },
  {
   "cell_type": "code",
   "execution_count": 49,
   "metadata": {},
   "outputs": [
    {
     "name": "stdout",
     "output_type": "stream",
     "text": [
      "['Age', 'Race', 'Marital Status', 'T Stage ', 'N Stage', '6th Stage', 'differentiate', 'Grade', 'A Stage', 'Tumor Size', 'Estrogen Status', 'Progesterone Status', 'Regional Node Examined', 'Reginol Node Positive', 'Survival Months', 'Status']\n"
     ]
    }
   ],
   "source": [
    "print(df.columns.tolist())"
   ]
  },
  {
   "cell_type": "code",
   "execution_count": null,
   "metadata": {},
   "outputs": [],
   "source": [
    "# initial subsetted dataframe\n",
    "df_subset = df[[\"N Stage\", \"Status\"]]\n",
    "df_nstage_count = df_subset.groupby(by = \"N Stage\")\n",
    "print(df_test.count())"
   ]
  },
  {
   "cell_type": "code",
   "execution_count": 63,
   "metadata": {},
   "outputs": [],
   "source": [
    "# build plot\n",
    "n1_alive = df_subset[np.logical_and(df_subset[\"N Stage\"] == \"N1\", df_subset[\"Status\"] == \"Alive\")]\n",
    "n1_dead = df_subset[np.logical_and(df_subset[\"N Stage\"] == \"N1\", df_subset[\"Status\"] == \"Dead\")]\n",
    "n2_alive = df_subset[np.logical_and(df_subset[\"N Stage\"] == \"N2\", df_subset[\"Status\"] == \"Alive\")]\n",
    "n2_dead = df_subset[np.logical_and(df_subset[\"N Stage\"] == \"N2\", df_subset[\"Status\"] == \"Dead\")]\n",
    "n3_alive = df_subset[np.logical_and(df_subset[\"N Stage\"] == \"N3\", df_subset[\"Status\"] == \"Alive\")]\n",
    "n3_dead = df_subset[np.logical_and(df_subset[\"N Stage\"] == \"N3\", df_subset[\"Status\"] == \"Dead\")]\n",
    "labels = df_subset.columns.tolist()\n",
    "\n",
    "# plt.bar()\n"
   ]
  }
 ],
 "metadata": {
  "kernelspec": {
   "display_name": "Python 3.11.1 64-bit",
   "language": "python",
   "name": "python3"
  },
  "language_info": {
   "codemirror_mode": {
    "name": "ipython",
    "version": 3
   },
   "file_extension": ".py",
   "mimetype": "text/x-python",
   "name": "python",
   "nbconvert_exporter": "python",
   "pygments_lexer": "ipython3",
   "version": "3.11.1"
  },
  "orig_nbformat": 4,
  "vscode": {
   "interpreter": {
    "hash": "bad757e961c51dcd22dff864138b02f9b7365f8956effb6ae770fb1b42ed4aac"
   }
  }
 },
 "nbformat": 4,
 "nbformat_minor": 2
}
